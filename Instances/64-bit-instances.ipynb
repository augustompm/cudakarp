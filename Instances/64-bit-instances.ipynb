{
 "cells": [
  {
   "cell_type": "code",
   "execution_count": 2,
   "metadata": {},
   "outputs": [
    {
     "name": "stdout",
     "output_type": "stream",
     "text": [
      "Instâncias de 64 bits geradas com sucesso!\n"
     ]
    }
   ],
   "source": [
    "import random\n",
    "import os\n",
    "\n",
    "# Cria o diretório para armazenar as instâncias se não existir\n",
    "os.makedirs(\"instances_64bits\", exist_ok=True)\n",
    "\n",
    "tamanhos = [110, 120, 130, 140, 150, 160, 170, 180, 190]\n",
    "num_instancias = 1  # Ajuste para gerar mais instâncias por tamanho\n",
    "\n",
    "for size in tamanhos:\n",
    "    for i in range(1, num_instancias + 1):\n",
    "        # Gera o array de inteiros 64 bits\n",
    "        valores = [random.randint(1, 2**64 - 1) for _ in range(size)]\n",
    "\n",
    "        # Define o nome do arquivo. Por ex.: 64-bit-instance_1000_1.txt, 64-bit-instance_2000_1.txt, etc.\n",
    "        filename = f\"instances_64bits/64-bit-instance_{size}.txt\"\n",
    "\n",
    "        with open(filename, \"w\") as f:\n",
    "            # Primeira linha: tamanho da instância\n",
    "            f.write(str(size) + \"\\n\")\n",
    "            # Cada inteiro é escrito com 20 dígitos, preenchendo com zeros à esquerda\n",
    "            for val in valores:\n",
    "                f.write(f\"{val:020d}\\n\")\n",
    "\n",
    "print(\"Instâncias de 64 bits geradas com sucesso!\")\n"
   ]
  },
  {
   "cell_type": "code",
   "execution_count": null,
   "metadata": {},
   "outputs": [],
   "source": []
  }
 ],
 "metadata": {
  "kernelspec": {
   "display_name": "Python 3",
   "language": "python",
   "name": "python3"
  },
  "language_info": {
   "codemirror_mode": {
    "name": "ipython",
    "version": 3
   },
   "file_extension": ".py",
   "mimetype": "text/x-python",
   "name": "python",
   "nbconvert_exporter": "python",
   "pygments_lexer": "ipython3",
   "version": "3.12.3"
  }
 },
 "nbformat": 4,
 "nbformat_minor": 2
}
